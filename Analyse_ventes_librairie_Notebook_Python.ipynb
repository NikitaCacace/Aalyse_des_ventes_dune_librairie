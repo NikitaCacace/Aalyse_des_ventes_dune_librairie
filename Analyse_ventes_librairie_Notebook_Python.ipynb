{
 "cells": [
  {
   "cell_type": "markdown",
   "metadata": {},
   "source": [
    "Import des librairies et données nécessaires à l'étude:\n",
    "==="
   ]
  },
  {
   "cell_type": "code",
   "execution_count": 1,
   "metadata": {},
   "outputs": [],
   "source": [
    "# Librairies de calcul:\n",
    "import pandas as pd\n",
    "import numpy as np\n",
    "import scipy.stats as st\n",
    "import datetime\n",
    "import statsmodels.api as sm\n",
    "from statsmodels.formula.api import ols\n",
    "\n",
    "# Librairies de visualisation:\n",
    "import matplotlib.pyplot as plt\n",
    "import seaborn as sns\n",
    "\n",
    "# Options globales pour l'output display:\n",
    "pd.options.display.float_format = \"{:.2f}\".format\n",
    "colors = [\"#b2eca7\",\"#ffcc97\",\"#676283\",\"#72bbff\",\"#d2a0f2\",\"#0abdc0\"]\n",
    "\n",
    "# Import des donnees:\n",
    "Transactions_df = pd.read_csv(\"Transactions.csv\", parse_dates = [1])\n",
    "Customers_df = pd.read_csv(\"Customers.csv\")\n",
    "Products_df = pd.read_csv(\"Products.csv\")"
   ]
  },
  {
   "cell_type": "markdown",
   "metadata": {},
   "source": [
    "Observation et nettoyage des Dataframes:\n",
    "==="
   ]
  },
  {
   "cell_type": "markdown",
   "metadata": {},
   "source": [
    "Transactions_df:\n",
    "---"
   ]
  },
  {
   "cell_type": "code",
   "execution_count": 2,
   "metadata": {},
   "outputs": [
    {
     "name": "stdout",
     "output_type": "stream",
     "text": [
      "<class 'pandas.core.frame.DataFrame'>\n",
      "RangeIndex: 679532 entries, 0 to 679531\n",
      "Data columns (total 4 columns):\n",
      " #   Column      Non-Null Count   Dtype \n",
      "---  ------      --------------   ----- \n",
      " 0   id_prod     679532 non-null  object\n",
      " 1   date        679532 non-null  object\n",
      " 2   session_id  679532 non-null  object\n",
      " 3   client_id   679532 non-null  object\n",
      "dtypes: object(4)\n",
      "memory usage: 20.7+ MB\n"
     ]
    },
    {
     "data": {
      "text/html": [
       "<div>\n",
       "<style scoped>\n",
       "    .dataframe tbody tr th:only-of-type {\n",
       "        vertical-align: middle;\n",
       "    }\n",
       "\n",
       "    .dataframe tbody tr th {\n",
       "        vertical-align: top;\n",
       "    }\n",
       "\n",
       "    .dataframe thead th {\n",
       "        text-align: right;\n",
       "    }\n",
       "</style>\n",
       "<table border=\"1\" class=\"dataframe\">\n",
       "  <thead>\n",
       "    <tr style=\"text-align: right;\">\n",
       "      <th></th>\n",
       "      <th>id_prod</th>\n",
       "      <th>date</th>\n",
       "      <th>session_id</th>\n",
       "      <th>client_id</th>\n",
       "    </tr>\n",
       "  </thead>\n",
       "  <tbody>\n",
       "    <tr>\n",
       "      <th>count</th>\n",
       "      <td>679532</td>\n",
       "      <td>679532</td>\n",
       "      <td>679532</td>\n",
       "      <td>679532</td>\n",
       "    </tr>\n",
       "    <tr>\n",
       "      <th>unique</th>\n",
       "      <td>3267</td>\n",
       "      <td>679371</td>\n",
       "      <td>342316</td>\n",
       "      <td>8602</td>\n",
       "    </tr>\n",
       "    <tr>\n",
       "      <th>top</th>\n",
       "      <td>1_369</td>\n",
       "      <td>test_2021-03-01 02:30:02.237413</td>\n",
       "      <td>s_0</td>\n",
       "      <td>c_1609</td>\n",
       "    </tr>\n",
       "    <tr>\n",
       "      <th>freq</th>\n",
       "      <td>2252</td>\n",
       "      <td>13</td>\n",
       "      <td>200</td>\n",
       "      <td>25488</td>\n",
       "    </tr>\n",
       "  </tbody>\n",
       "</table>\n",
       "</div>"
      ],
      "text/plain": [
       "       id_prod                             date session_id client_id\n",
       "count   679532                           679532     679532    679532\n",
       "unique    3267                           679371     342316      8602\n",
       "top      1_369  test_2021-03-01 02:30:02.237413        s_0    c_1609\n",
       "freq      2252                               13        200     25488"
      ]
     },
     "execution_count": 2,
     "metadata": {},
     "output_type": "execute_result"
    }
   ],
   "source": [
    "Transactions_df.info()\n",
    "Transactions_df.describe()"
   ]
  },
  {
   "cell_type": "code",
   "execution_count": 3,
   "metadata": {},
   "outputs": [
    {
     "data": {
      "text/html": [
       "<div>\n",
       "<style scoped>\n",
       "    .dataframe tbody tr th:only-of-type {\n",
       "        vertical-align: middle;\n",
       "    }\n",
       "\n",
       "    .dataframe tbody tr th {\n",
       "        vertical-align: top;\n",
       "    }\n",
       "\n",
       "    .dataframe thead th {\n",
       "        text-align: right;\n",
       "    }\n",
       "</style>\n",
       "<table border=\"1\" class=\"dataframe\">\n",
       "  <thead>\n",
       "    <tr style=\"text-align: right;\">\n",
       "      <th></th>\n",
       "      <th>session_id</th>\n",
       "      <th>date</th>\n",
       "      <th>client_id</th>\n",
       "    </tr>\n",
       "  </thead>\n",
       "  <tbody>\n",
       "    <tr>\n",
       "      <th>count</th>\n",
       "      <td>200</td>\n",
       "      <td>200</td>\n",
       "      <td>200</td>\n",
       "    </tr>\n",
       "    <tr>\n",
       "      <th>unique</th>\n",
       "      <td>1</td>\n",
       "      <td>39</td>\n",
       "      <td>2</td>\n",
       "    </tr>\n",
       "    <tr>\n",
       "      <th>top</th>\n",
       "      <td>s_0</td>\n",
       "      <td>test_2021-03-01 02:30:02.237413</td>\n",
       "      <td>ct_0</td>\n",
       "    </tr>\n",
       "    <tr>\n",
       "      <th>freq</th>\n",
       "      <td>200</td>\n",
       "      <td>13</td>\n",
       "      <td>106</td>\n",
       "    </tr>\n",
       "  </tbody>\n",
       "</table>\n",
       "</div>"
      ],
      "text/plain": [
       "       session_id                             date client_id\n",
       "count         200                              200       200\n",
       "unique          1                               39         2\n",
       "top           s_0  test_2021-03-01 02:30:02.237413      ct_0\n",
       "freq          200                               13       106"
      ]
     },
     "execution_count": 3,
     "metadata": {},
     "output_type": "execute_result"
    }
   ],
   "source": [
    "Transactions_df.loc[(Transactions_df[\"id_prod\"]==\"T_0\"),(\"session_id\",\"date\",\"client_id\")].describe()"
   ]
  },
  {
   "cell_type": "code",
   "execution_count": 4,
   "metadata": {},
   "outputs": [
    {
     "data": {
      "text/plain": [
       "id_prod    0\n",
       "price      0\n",
       "categ      0\n",
       "dtype: int64"
      ]
     },
     "execution_count": 4,
     "metadata": {},
     "output_type": "execute_result"
    }
   ],
   "source": [
    "Products_df.isna().sum()"
   ]
  },
  {
   "cell_type": "markdown",
   "metadata": {},
   "source": [
    "- Pas de valeurs nulles.\n",
    "- On remarque des \"test_2021*\" qui ont tous le même id_prod et session_id (T_0 et s_0 respectivement), les client_id sont ct_0 (femme née en 2001) et ct_1 (homme née en 2001). Le produit T_0 à un prix négatif de -1€. 200 lignes sont concernées. On peut considérer qu'il s'agit de comptes de test faisant des transactions fictives dans le but de tester le site lors de son lancement. Les 200 lignes doivent être supprimées du dataframe. Il faudra aussi supprimer les deux faux clients et le produit fictif. Cependant il nous sera possible de revenir en arrière s'il s'avère qu'il ne s'agissait pas de tests."
   ]
  },
  {
   "cell_type": "code",
   "execution_count": 5,
   "metadata": {},
   "outputs": [],
   "source": [
    "Transactions_df.drop(Transactions_df[(Transactions_df[\"id_prod\"] == \"T_0\")].index, inplace=True)\n",
    "Transactions_df[\"date\"] = pd.to_datetime(Transactions_df[\"date\"], yearfirst= True)"
   ]
  },
  {
   "cell_type": "code",
   "execution_count": 6,
   "metadata": {},
   "outputs": [
    {
     "name": "stdout",
     "output_type": "stream",
     "text": [
      "<class 'pandas.core.frame.DataFrame'>\n",
      "Int64Index: 679332 entries, 0 to 679531\n",
      "Data columns (total 4 columns):\n",
      " #   Column      Non-Null Count   Dtype         \n",
      "---  ------      --------------   -----         \n",
      " 0   id_prod     679332 non-null  object        \n",
      " 1   date        679332 non-null  datetime64[ns]\n",
      " 2   session_id  679332 non-null  object        \n",
      " 3   client_id   679332 non-null  object        \n",
      "dtypes: datetime64[ns](1), object(3)\n",
      "memory usage: 25.9+ MB\n"
     ]
    },
    {
     "name": "stderr",
     "output_type": "stream",
     "text": [
      "<ipython-input-6-d5b6b1656398>:2: FutureWarning: Treating datetime data as categorical rather than numeric in `.describe` is deprecated and will be removed in a future version of pandas. Specify `datetime_is_numeric=True` to silence this warning and adopt the future behavior now.\n",
      "  Transactions_df.describe()\n"
     ]
    },
    {
     "data": {
      "text/html": [
       "<div>\n",
       "<style scoped>\n",
       "    .dataframe tbody tr th:only-of-type {\n",
       "        vertical-align: middle;\n",
       "    }\n",
       "\n",
       "    .dataframe tbody tr th {\n",
       "        vertical-align: top;\n",
       "    }\n",
       "\n",
       "    .dataframe thead th {\n",
       "        text-align: right;\n",
       "    }\n",
       "</style>\n",
       "<table border=\"1\" class=\"dataframe\">\n",
       "  <thead>\n",
       "    <tr style=\"text-align: right;\">\n",
       "      <th></th>\n",
       "      <th>id_prod</th>\n",
       "      <th>date</th>\n",
       "      <th>session_id</th>\n",
       "      <th>client_id</th>\n",
       "    </tr>\n",
       "  </thead>\n",
       "  <tbody>\n",
       "    <tr>\n",
       "      <th>count</th>\n",
       "      <td>679332</td>\n",
       "      <td>679332</td>\n",
       "      <td>679332</td>\n",
       "      <td>679332</td>\n",
       "    </tr>\n",
       "    <tr>\n",
       "      <th>unique</th>\n",
       "      <td>3266</td>\n",
       "      <td>679332</td>\n",
       "      <td>342315</td>\n",
       "      <td>8600</td>\n",
       "    </tr>\n",
       "    <tr>\n",
       "      <th>top</th>\n",
       "      <td>1_369</td>\n",
       "      <td>2021-09-23 22:15:02.832196</td>\n",
       "      <td>s_118668</td>\n",
       "      <td>c_1609</td>\n",
       "    </tr>\n",
       "    <tr>\n",
       "      <th>freq</th>\n",
       "      <td>2252</td>\n",
       "      <td>1</td>\n",
       "      <td>14</td>\n",
       "      <td>25488</td>\n",
       "    </tr>\n",
       "    <tr>\n",
       "      <th>first</th>\n",
       "      <td>NaN</td>\n",
       "      <td>2021-03-01 00:01:07.843138</td>\n",
       "      <td>NaN</td>\n",
       "      <td>NaN</td>\n",
       "    </tr>\n",
       "    <tr>\n",
       "      <th>last</th>\n",
       "      <td>NaN</td>\n",
       "      <td>2023-02-28 23:58:30.792755</td>\n",
       "      <td>NaN</td>\n",
       "      <td>NaN</td>\n",
       "    </tr>\n",
       "  </tbody>\n",
       "</table>\n",
       "</div>"
      ],
      "text/plain": [
       "       id_prod                        date session_id client_id\n",
       "count   679332                      679332     679332    679332\n",
       "unique    3266                      679332     342315      8600\n",
       "top      1_369  2021-09-23 22:15:02.832196   s_118668    c_1609\n",
       "freq      2252                           1         14     25488\n",
       "first      NaN  2021-03-01 00:01:07.843138        NaN       NaN\n",
       "last       NaN  2023-02-28 23:58:30.792755        NaN       NaN"
      ]
     },
     "execution_count": 6,
     "metadata": {},
     "output_type": "execute_result"
    }
   ],
   "source": [
    "Transactions_df.info()\n",
    "Transactions_df.describe()"
   ]
  },
  {
   "cell_type": "markdown",
   "metadata": {},
   "source": [
    "- Les 200 lignes \"test\" ont bien été suprimées de notre dataframe.\n",
    "- Les date sont bien lues en datetime.\n",
    "- Dates du fuuutuuuure"
   ]
  },
  {
   "cell_type": "markdown",
   "metadata": {},
   "source": [
    "Customers_df:\n",
    "---"
   ]
  },
  {
   "cell_type": "code",
   "execution_count": 7,
   "metadata": {},
   "outputs": [
    {
     "name": "stdout",
     "output_type": "stream",
     "text": [
      "<class 'pandas.core.frame.DataFrame'>\n",
      "RangeIndex: 8623 entries, 0 to 8622\n",
      "Data columns (total 3 columns):\n",
      " #   Column     Non-Null Count  Dtype \n",
      "---  ------     --------------  ----- \n",
      " 0   client_id  8623 non-null   object\n",
      " 1   sex        8623 non-null   object\n",
      " 2   birth      8623 non-null   int64 \n",
      "dtypes: int64(1), object(2)\n",
      "memory usage: 202.2+ KB\n"
     ]
    },
    {
     "data": {
      "text/html": [
       "<div>\n",
       "<style scoped>\n",
       "    .dataframe tbody tr th:only-of-type {\n",
       "        vertical-align: middle;\n",
       "    }\n",
       "\n",
       "    .dataframe tbody tr th {\n",
       "        vertical-align: top;\n",
       "    }\n",
       "\n",
       "    .dataframe thead th {\n",
       "        text-align: right;\n",
       "    }\n",
       "</style>\n",
       "<table border=\"1\" class=\"dataframe\">\n",
       "  <thead>\n",
       "    <tr style=\"text-align: right;\">\n",
       "      <th></th>\n",
       "      <th>birth</th>\n",
       "    </tr>\n",
       "  </thead>\n",
       "  <tbody>\n",
       "    <tr>\n",
       "      <th>count</th>\n",
       "      <td>8623.00</td>\n",
       "    </tr>\n",
       "    <tr>\n",
       "      <th>mean</th>\n",
       "      <td>1978.28</td>\n",
       "    </tr>\n",
       "    <tr>\n",
       "      <th>std</th>\n",
       "      <td>16.92</td>\n",
       "    </tr>\n",
       "    <tr>\n",
       "      <th>min</th>\n",
       "      <td>1929.00</td>\n",
       "    </tr>\n",
       "    <tr>\n",
       "      <th>25%</th>\n",
       "      <td>1966.00</td>\n",
       "    </tr>\n",
       "    <tr>\n",
       "      <th>50%</th>\n",
       "      <td>1979.00</td>\n",
       "    </tr>\n",
       "    <tr>\n",
       "      <th>75%</th>\n",
       "      <td>1992.00</td>\n",
       "    </tr>\n",
       "    <tr>\n",
       "      <th>max</th>\n",
       "      <td>2004.00</td>\n",
       "    </tr>\n",
       "  </tbody>\n",
       "</table>\n",
       "</div>"
      ],
      "text/plain": [
       "        birth\n",
       "count 8623.00\n",
       "mean  1978.28\n",
       "std     16.92\n",
       "min   1929.00\n",
       "25%   1966.00\n",
       "50%   1979.00\n",
       "75%   1992.00\n",
       "max   2004.00"
      ]
     },
     "execution_count": 7,
     "metadata": {},
     "output_type": "execute_result"
    }
   ],
   "source": [
    "Customers_df.info()\n",
    "Customers_df.describe()"
   ]
  },
  {
   "cell_type": "code",
   "execution_count": 8,
   "metadata": {},
   "outputs": [
    {
     "data": {
      "text/plain": [
       "client_id    0\n",
       "sex          0\n",
       "birth        0\n",
       "dtype: int64"
      ]
     },
     "execution_count": 8,
     "metadata": {},
     "output_type": "execute_result"
    }
   ],
   "source": [
    "Customers_df.isna().sum()"
   ]
  },
  {
   "cell_type": "markdown",
   "metadata": {},
   "source": [
    "- Pas de valeurs manquantes\n",
    "- Pas de valeurs aberrentes dans les années de naissance (min 2004 = 17 ans et max 1929 = 92 ans)\n",
    "- On veut une colonne supplémentaire avec l'âge du client\n",
    "- Nous avions décidé de supprimer les clients test (ct_1 et ct_0)"
   ]
  },
  {
   "cell_type": "code",
   "execution_count": 9,
   "metadata": {},
   "outputs": [
    {
     "name": "stdout",
     "output_type": "stream",
     "text": [
      "<class 'pandas.core.frame.DataFrame'>\n",
      "Int64Index: 8621 entries, 0 to 8622\n",
      "Data columns (total 4 columns):\n",
      " #   Column     Non-Null Count  Dtype \n",
      "---  ------     --------------  ----- \n",
      " 0   client_id  8621 non-null   object\n",
      " 1   sex        8621 non-null   object\n",
      " 2   birth      8621 non-null   int64 \n",
      " 3   age        8621 non-null   int64 \n",
      "dtypes: int64(2), object(2)\n",
      "memory usage: 336.8+ KB\n"
     ]
    },
    {
     "data": {
      "text/html": [
       "<div>\n",
       "<style scoped>\n",
       "    .dataframe tbody tr th:only-of-type {\n",
       "        vertical-align: middle;\n",
       "    }\n",
       "\n",
       "    .dataframe tbody tr th {\n",
       "        vertical-align: top;\n",
       "    }\n",
       "\n",
       "    .dataframe thead th {\n",
       "        text-align: right;\n",
       "    }\n",
       "</style>\n",
       "<table border=\"1\" class=\"dataframe\">\n",
       "  <thead>\n",
       "    <tr style=\"text-align: right;\">\n",
       "      <th></th>\n",
       "      <th>birth</th>\n",
       "      <th>age</th>\n",
       "    </tr>\n",
       "  </thead>\n",
       "  <tbody>\n",
       "    <tr>\n",
       "      <th>count</th>\n",
       "      <td>8621.00</td>\n",
       "      <td>8621.00</td>\n",
       "    </tr>\n",
       "    <tr>\n",
       "      <th>mean</th>\n",
       "      <td>1978.28</td>\n",
       "      <td>42.72</td>\n",
       "    </tr>\n",
       "    <tr>\n",
       "      <th>std</th>\n",
       "      <td>16.92</td>\n",
       "      <td>16.92</td>\n",
       "    </tr>\n",
       "    <tr>\n",
       "      <th>min</th>\n",
       "      <td>1929.00</td>\n",
       "      <td>17.00</td>\n",
       "    </tr>\n",
       "    <tr>\n",
       "      <th>25%</th>\n",
       "      <td>1966.00</td>\n",
       "      <td>29.00</td>\n",
       "    </tr>\n",
       "    <tr>\n",
       "      <th>50%</th>\n",
       "      <td>1979.00</td>\n",
       "      <td>42.00</td>\n",
       "    </tr>\n",
       "    <tr>\n",
       "      <th>75%</th>\n",
       "      <td>1992.00</td>\n",
       "      <td>55.00</td>\n",
       "    </tr>\n",
       "    <tr>\n",
       "      <th>max</th>\n",
       "      <td>2004.00</td>\n",
       "      <td>92.00</td>\n",
       "    </tr>\n",
       "  </tbody>\n",
       "</table>\n",
       "</div>"
      ],
      "text/plain": [
       "        birth     age\n",
       "count 8621.00 8621.00\n",
       "mean  1978.28   42.72\n",
       "std     16.92   16.92\n",
       "min   1929.00   17.00\n",
       "25%   1966.00   29.00\n",
       "50%   1979.00   42.00\n",
       "75%   1992.00   55.00\n",
       "max   2004.00   92.00"
      ]
     },
     "execution_count": 9,
     "metadata": {},
     "output_type": "execute_result"
    }
   ],
   "source": [
    "# Suppression des clients tests:\n",
    "Customers_df.drop(Customers_df[(Customers_df[\"client_id\"] == \"ct_0\")].index, inplace=True)\n",
    "Customers_df.drop(Customers_df[(Customers_df[\"client_id\"] == \"ct_1\")].index, inplace=True)\n",
    "\n",
    "# Ajout d'une colonne \"age\" aux clients:\n",
    "from datetime import datetime\n",
    "current_year = datetime.now().strftime('%Y')\n",
    "\n",
    "Customers_df[\"age\"] = int(current_year) - Customers_df[\"birth\"]\n",
    "\n",
    "# Verifications:\n",
    "Customers_df.info()\n",
    "Customers_df.describe()"
   ]
  },
  {
   "cell_type": "markdown",
   "metadata": {},
   "source": [
    "Products_df:\n",
    "---"
   ]
  },
  {
   "cell_type": "code",
   "execution_count": 10,
   "metadata": {},
   "outputs": [
    {
     "name": "stdout",
     "output_type": "stream",
     "text": [
      "<class 'pandas.core.frame.DataFrame'>\n",
      "RangeIndex: 3287 entries, 0 to 3286\n",
      "Data columns (total 3 columns):\n",
      " #   Column   Non-Null Count  Dtype  \n",
      "---  ------   --------------  -----  \n",
      " 0   id_prod  3287 non-null   object \n",
      " 1   price    3287 non-null   float64\n",
      " 2   categ    3287 non-null   int64  \n",
      "dtypes: float64(1), int64(1), object(1)\n",
      "memory usage: 77.2+ KB\n"
     ]
    },
    {
     "data": {
      "text/html": [
       "<div>\n",
       "<style scoped>\n",
       "    .dataframe tbody tr th:only-of-type {\n",
       "        vertical-align: middle;\n",
       "    }\n",
       "\n",
       "    .dataframe tbody tr th {\n",
       "        vertical-align: top;\n",
       "    }\n",
       "\n",
       "    .dataframe thead th {\n",
       "        text-align: right;\n",
       "    }\n",
       "</style>\n",
       "<table border=\"1\" class=\"dataframe\">\n",
       "  <thead>\n",
       "    <tr style=\"text-align: right;\">\n",
       "      <th></th>\n",
       "      <th>price</th>\n",
       "      <th>categ</th>\n",
       "    </tr>\n",
       "  </thead>\n",
       "  <tbody>\n",
       "    <tr>\n",
       "      <th>count</th>\n",
       "      <td>3287.00</td>\n",
       "      <td>3287.00</td>\n",
       "    </tr>\n",
       "    <tr>\n",
       "      <th>mean</th>\n",
       "      <td>21.86</td>\n",
       "      <td>0.37</td>\n",
       "    </tr>\n",
       "    <tr>\n",
       "      <th>std</th>\n",
       "      <td>29.85</td>\n",
       "      <td>0.62</td>\n",
       "    </tr>\n",
       "    <tr>\n",
       "      <th>min</th>\n",
       "      <td>-1.00</td>\n",
       "      <td>0.00</td>\n",
       "    </tr>\n",
       "    <tr>\n",
       "      <th>25%</th>\n",
       "      <td>6.99</td>\n",
       "      <td>0.00</td>\n",
       "    </tr>\n",
       "    <tr>\n",
       "      <th>50%</th>\n",
       "      <td>13.06</td>\n",
       "      <td>0.00</td>\n",
       "    </tr>\n",
       "    <tr>\n",
       "      <th>75%</th>\n",
       "      <td>22.99</td>\n",
       "      <td>1.00</td>\n",
       "    </tr>\n",
       "    <tr>\n",
       "      <th>max</th>\n",
       "      <td>300.00</td>\n",
       "      <td>2.00</td>\n",
       "    </tr>\n",
       "  </tbody>\n",
       "</table>\n",
       "</div>"
      ],
      "text/plain": [
       "        price   categ\n",
       "count 3287.00 3287.00\n",
       "mean    21.86    0.37\n",
       "std     29.85    0.62\n",
       "min     -1.00    0.00\n",
       "25%      6.99    0.00\n",
       "50%     13.06    0.00\n",
       "75%     22.99    1.00\n",
       "max    300.00    2.00"
      ]
     },
     "execution_count": 10,
     "metadata": {},
     "output_type": "execute_result"
    }
   ],
   "source": [
    "Products_df.info()\n",
    "Products_df.describe()"
   ]
  },
  {
   "cell_type": "code",
   "execution_count": 11,
   "metadata": {},
   "outputs": [
    {
     "data": {
      "text/plain": [
       "id_prod    0\n",
       "price      0\n",
       "categ      0\n",
       "dtype: int64"
      ]
     },
     "execution_count": 11,
     "metadata": {},
     "output_type": "execute_result"
    }
   ],
   "source": [
    "Products_df.isna().sum()"
   ]
  },
  {
   "cell_type": "markdown",
   "metadata": {},
   "source": [
    "- Pas de valeurs manquantes, les types de données sont bons\n",
    "- min = -1 correspond à un produit d'identifiant T_0, dans le df transaction nous avions pris la décision de supprimer les transactions en rapport avec ce que l'on suppose être un test."
   ]
  },
  {
   "cell_type": "code",
   "execution_count": 12,
   "metadata": {},
   "outputs": [
    {
     "name": "stdout",
     "output_type": "stream",
     "text": [
      "<class 'pandas.core.frame.DataFrame'>\n",
      "Int64Index: 3286 entries, 0 to 3286\n",
      "Data columns (total 3 columns):\n",
      " #   Column   Non-Null Count  Dtype  \n",
      "---  ------   --------------  -----  \n",
      " 0   id_prod  3286 non-null   object \n",
      " 1   price    3286 non-null   float64\n",
      " 2   categ    3286 non-null   int64  \n",
      "dtypes: float64(1), int64(1), object(1)\n",
      "memory usage: 102.7+ KB\n"
     ]
    },
    {
     "data": {
      "text/html": [
       "<div>\n",
       "<style scoped>\n",
       "    .dataframe tbody tr th:only-of-type {\n",
       "        vertical-align: middle;\n",
       "    }\n",
       "\n",
       "    .dataframe tbody tr th {\n",
       "        vertical-align: top;\n",
       "    }\n",
       "\n",
       "    .dataframe thead th {\n",
       "        text-align: right;\n",
       "    }\n",
       "</style>\n",
       "<table border=\"1\" class=\"dataframe\">\n",
       "  <thead>\n",
       "    <tr style=\"text-align: right;\">\n",
       "      <th></th>\n",
       "      <th>price</th>\n",
       "    </tr>\n",
       "  </thead>\n",
       "  <tbody>\n",
       "    <tr>\n",
       "      <th>count</th>\n",
       "      <td>3286.00</td>\n",
       "    </tr>\n",
       "    <tr>\n",
       "      <th>mean</th>\n",
       "      <td>21.86</td>\n",
       "    </tr>\n",
       "    <tr>\n",
       "      <th>std</th>\n",
       "      <td>29.85</td>\n",
       "    </tr>\n",
       "    <tr>\n",
       "      <th>min</th>\n",
       "      <td>0.62</td>\n",
       "    </tr>\n",
       "    <tr>\n",
       "      <th>25%</th>\n",
       "      <td>6.99</td>\n",
       "    </tr>\n",
       "    <tr>\n",
       "      <th>50%</th>\n",
       "      <td>13.07</td>\n",
       "    </tr>\n",
       "    <tr>\n",
       "      <th>75%</th>\n",
       "      <td>22.99</td>\n",
       "    </tr>\n",
       "    <tr>\n",
       "      <th>max</th>\n",
       "      <td>300.00</td>\n",
       "    </tr>\n",
       "  </tbody>\n",
       "</table>\n",
       "</div>"
      ],
      "text/plain": [
       "        price\n",
       "count 3286.00\n",
       "mean    21.86\n",
       "std     29.85\n",
       "min      0.62\n",
       "25%      6.99\n",
       "50%     13.07\n",
       "75%     22.99\n",
       "max    300.00"
      ]
     },
     "execution_count": 12,
     "metadata": {},
     "output_type": "execute_result"
    }
   ],
   "source": [
    "# Suppression du produit test:\n",
    "Products_df.drop(Products_df[(Products_df[\"id_prod\"] == \"T_0\")].index, inplace=True)\n",
    "\n",
    "# Verifications:\n",
    "Products_df.info()\n",
    "Products_df[[\"price\"]].describe()"
   ]
  },
  {
   "cell_type": "markdown",
   "metadata": {},
   "source": [
    "Jointure des dataframes:\n",
    "==="
   ]
  },
  {
   "cell_type": "code",
   "execution_count": 13,
   "metadata": {},
   "outputs": [
    {
     "name": "stdout",
     "output_type": "stream",
     "text": [
      "Nombre de client_id: 8621\n",
      "Nombre de id_prod: 3286\n",
      "<class 'pandas.core.frame.DataFrame'>\n",
      "Int64Index: 0 entries\n",
      "Data columns (total 4 columns):\n",
      " #   Column      Non-Null Count  Dtype         \n",
      "---  ------      --------------  -----         \n",
      " 0   id_prod     0 non-null      object        \n",
      " 1   date        0 non-null      datetime64[ns]\n",
      " 2   session_id  0 non-null      object        \n",
      " 3   client_id   0 non-null      object        \n",
      "dtypes: datetime64[ns](1), object(3)\n",
      "memory usage: 0.0+ bytes\n"
     ]
    }
   ],
   "source": [
    "# Verifications d'unicite et recherche de duplicats:\n",
    "print(\"Nombre de client_id:\", Customers_df[\"client_id\"].nunique())\n",
    "print(\"Nombre de id_prod:\", Products_df[\"id_prod\"].nunique())\n",
    "\n",
    "Duplicated_df = Transactions_df.loc[Transactions_df.duplicated()==True]\n",
    "Duplicated_df.info()"
   ]
  },
  {
   "cell_type": "markdown",
   "metadata": {},
   "source": [
    "- client_id est une bonne clé pour Customers_df puisqu'il y a 8621 valeurs uniques sur 8621 valeurs au total (cf .describe() plus haut)\n",
    "- id_prod est une bonne clé pour Products_df puisqu'il y a 3286 valeurs uniques sur 3286 valeurs au total (cf .describe() plus haut)\n",
    "- La création d'un dataframe duplicate, afin de vérifier l'unicité des transacations, montre que les 679332 transactions répertoriées sont uniques\n",
    "\n",
    "Ces vérifications faites on peut faire les jointures, on souhaite conserver toutes les informations présentes dans Transactions_df et les lier à celles présentes dans les deux autres dataframes. id_prod et client_id pourront être répétés plusieurs fois dans Transactions_df mais certains produits peuvent ne jamais avoir été vendus où certains clients peuvent ne jamais avoir effectué d'achats on souhaite pourtant conserver leurs informations. On fera une jointure \"full outter\". On s'attend donc à avoir *in fine* un dataframe avec 679332 lignes minimum (+ produits jamais vendus et clients non acheteurs). Il peut s'agir de clients n'achetant pas sur plusieurs sessions."
   ]
  },
  {
   "cell_type": "code",
   "execution_count": 14,
   "metadata": {},
   "outputs": [
    {
     "name": "stdout",
     "output_type": "stream",
     "text": [
      "<class 'pandas.core.frame.DataFrame'>\n",
      "Int64Index: 679353 entries, 0 to 679352\n",
      "Data columns (total 7 columns):\n",
      " #   Column      Non-Null Count   Dtype         \n",
      "---  ------      --------------   -----         \n",
      " 0   id_prod     679332 non-null  object        \n",
      " 1   date        679332 non-null  datetime64[ns]\n",
      " 2   session_id  679332 non-null  object        \n",
      " 3   client_id   679353 non-null  object        \n",
      " 4   sex         679353 non-null  object        \n",
      " 5   birth       679353 non-null  int64         \n",
      " 6   age         679353 non-null  int64         \n",
      "dtypes: datetime64[ns](1), int64(2), object(4)\n",
      "memory usage: 41.5+ MB\n"
     ]
    }
   ],
   "source": [
    "# Premiere jointure:\n",
    "Interm_df = pd.merge(Transactions_df, Customers_df, on=\"client_id\", how=\"outer\")\n",
    "Interm_df.info()"
   ]
  },
  {
   "cell_type": "code",
   "execution_count": 15,
   "metadata": {},
   "outputs": [
    {
     "name": "stdout",
     "output_type": "stream",
     "text": [
      "<class 'pandas.core.frame.DataFrame'>\n",
      "Int64Index: 679374 entries, 0 to 679373\n",
      "Data columns (total 9 columns):\n",
      " #   Column      Non-Null Count   Dtype         \n",
      "---  ------      --------------   -----         \n",
      " 0   id_prod     679353 non-null  object        \n",
      " 1   date        679332 non-null  datetime64[ns]\n",
      " 2   session_id  679332 non-null  object        \n",
      " 3   client_id   679353 non-null  object        \n",
      " 4   sex         679353 non-null  object        \n",
      " 5   birth       679353 non-null  float64       \n",
      " 6   age         679353 non-null  float64       \n",
      " 7   price       679132 non-null  float64       \n",
      " 8   categ       679132 non-null  float64       \n",
      "dtypes: datetime64[ns](1), float64(4), object(4)\n",
      "memory usage: 51.8+ MB\n"
     ]
    }
   ],
   "source": [
    "# Seconde jointure:\n",
    "Complet_df = pd.merge(Interm_df, Products_df, on=\"id_prod\", how=\"outer\")\n",
    "Complet_df.info()"
   ]
  },
  {
   "cell_type": "code",
   "execution_count": 16,
   "metadata": {},
   "outputs": [
    {
     "data": {
      "text/plain": [
       "id_prod        21\n",
       "date           42\n",
       "session_id     42\n",
       "client_id      21\n",
       "sex            21\n",
       "birth          21\n",
       "age            21\n",
       "price         242\n",
       "categ         242\n",
       "dtype: int64"
      ]
     },
     "execution_count": 16,
     "metadata": {},
     "output_type": "execute_result"
    }
   ],
   "source": [
    "Complet_df.isna().sum()"
   ]
  },
  {
   "cell_type": "markdown",
   "metadata": {},
   "source": [
    "La première jointure, de Customers_df sur Transactions_df donne le dataframe Interm_df avec 679353 lignes.\n",
    "\n",
    "La seconde jointure, de Products_df sur Interm_df donne le dataframe Comlpet_df avec 679374 lignes.\n",
    "\n",
    "Le nombre de NaN est plus important qu'attendu:\n",
    "- On retrouve 21 clients qui n'ont pas fait d'achats mais qui ont un compte sur notre site.\n",
    "- On a également 21 produits qui ne se sont jamais vendus mais qui sont présents dans notre référencement.\n",
    "- Les 242 NaN dans price et categ ne sont pas normaux même en prennant en compte les 21 NaN \"corresspondants\" aux clients non achateurs. Ils correspondent tous à différentes sessions de différents clients concernant le produit 0_2245 qui ne se retrouve pas dans le Products_df. Il s'agit probablement d'une suppression par inadvertance mais il faudrait ajouter les informations concernant le prix de ce produit, la catégorie étant donnée par la structure de l'identifiant. Pour que nos calculs soient plus proches de la réalité nous choisissons de le remplacer temporairement par la médiane des prix des livres de catégorie 0 (9,99€) moins sensible aux outliers que la moyenne."
   ]
  },
  {
   "cell_type": "code",
   "execution_count": 17,
   "metadata": {},
   "outputs": [
    {
     "data": {
      "text/plain": [
       "id_prod       21\n",
       "date          42\n",
       "session_id    42\n",
       "client_id     21\n",
       "sex           21\n",
       "birth         21\n",
       "age           21\n",
       "price         21\n",
       "categ         21\n",
       "dtype: int64"
      ]
     },
     "execution_count": 17,
     "metadata": {},
     "output_type": "execute_result"
    }
   ],
   "source": [
    "# Remplacement des donnees manquantes de 0_2245:\n",
    "Complet_df[\"categ\"] = np.where(Complet_df[\"id_prod\"] == \"0_2245\",\n",
    "                               0,\n",
    "                               Complet_df[\"categ\"])\n",
    "\n",
    "Complet_df[\"price\"] = np.where(Complet_df[\"id_prod\"] == \"0_2245\",\n",
    "                               Complet_df.loc[(Complet_df[\"categ\"]==0),\"price\"].median(),\n",
    "                               Complet_df[\"price\"])\n",
    "\n",
    "Complet_df.isna().sum()"
   ]
  },
  {
   "cell_type": "code",
   "execution_count": 18,
   "metadata": {},
   "outputs": [
    {
     "name": "stdout",
     "output_type": "stream",
     "text": [
      "<class 'pandas.core.frame.DataFrame'>\n",
      "Int64Index: 679332 entries, 0 to 679331\n",
      "Data columns (total 9 columns):\n",
      " #   Column      Non-Null Count   Dtype         \n",
      "---  ------      --------------   -----         \n",
      " 0   id_prod     679332 non-null  object        \n",
      " 1   date        679332 non-null  datetime64[ns]\n",
      " 2   session_id  679332 non-null  object        \n",
      " 3   client_id   679332 non-null  object        \n",
      " 4   sex         679332 non-null  object        \n",
      " 5   birth       679332 non-null  float64       \n",
      " 6   age         679332 non-null  float64       \n",
      " 7   price       679332 non-null  float64       \n",
      " 8   categ       679332 non-null  float64       \n",
      "dtypes: datetime64[ns](1), float64(4), object(4)\n",
      "memory usage: 51.8+ MB\n"
     ]
    },
    {
     "name": "stderr",
     "output_type": "stream",
     "text": [
      "<ipython-input-18-28a03963a8d2>:6: SettingWithCopyWarning: \n",
      "A value is trying to be set on a copy of a slice from a DataFrame.\n",
      "Try using .loc[row_indexer,col_indexer] = value instead\n",
      "\n",
      "See the caveats in the documentation: https://pandas.pydata.org/pandas-docs/stable/user_guide/indexing.html#returning-a-view-versus-a-copy\n",
      "  Ventes_df[\"year\"] = Ventes_df[\"date\"].dt.year\n",
      "<ipython-input-18-28a03963a8d2>:7: SettingWithCopyWarning: \n",
      "A value is trying to be set on a copy of a slice from a DataFrame.\n",
      "Try using .loc[row_indexer,col_indexer] = value instead\n",
      "\n",
      "See the caveats in the documentation: https://pandas.pydata.org/pandas-docs/stable/user_guide/indexing.html#returning-a-view-versus-a-copy\n",
      "  Ventes_df[\"month\"] = Ventes_df[\"date\"].dt.month\n",
      "<ipython-input-18-28a03963a8d2>:8: SettingWithCopyWarning: \n",
      "A value is trying to be set on a copy of a slice from a DataFrame.\n",
      "Try using .loc[row_indexer,col_indexer] = value instead\n",
      "\n",
      "See the caveats in the documentation: https://pandas.pydata.org/pandas-docs/stable/user_guide/indexing.html#returning-a-view-versus-a-copy\n",
      "  Ventes_df[\"day\"] = Ventes_df[\"date\"].dt.day\n"
     ]
    }
   ],
   "source": [
    "# Creation de Ventes_df:\n",
    "Ventes_df = Complet_df.dropna()\n",
    "Ventes_df.info()\n",
    "\n",
    "# Facilite la manipulation des dates:\n",
    "Ventes_df[\"year\"] = Ventes_df[\"date\"].dt.year\n",
    "Ventes_df[\"month\"] = Ventes_df[\"date\"].dt.month\n",
    "Ventes_df[\"day\"] = Ventes_df[\"date\"].dt.day"
   ]
  },
  {
   "cell_type": "markdown",
   "metadata": {},
   "source": [
    "Pour faciliter les calculs par la suite on créer un dataframe ne contenant que les ventes (donc pas les clients non acheteurs ou les produits non vendus qui seront analysés à part)."
   ]
  },
  {
   "cell_type": "markdown",
   "metadata": {},
   "source": [
    "Analyse des différents indicateurs de vente:\n",
    "==="
   ]
  },
  {
   "cell_type": "markdown",
   "metadata": {},
   "source": [
    "Différents indicateurs et graphiques autour du CA dont évolution dans le temps:\n",
    "---"
   ]
  },
  {
   "cell_type": "code",
   "execution_count": 19,
   "metadata": {},
   "outputs": [
    {
     "name": "stdout",
     "output_type": "stream",
     "text": [
      "Le chiffre d'affaires total est de 11856731.75 €\n",
      "pour un total de 679332 ventes.\n"
     ]
    }
   ],
   "source": [
    "# CA total:\n",
    "ca_tot = Complet_df.loc[(Complet_df[\"client_id\"] != \"NaN\"),\"price\"].sum()\n",
    "ventes_tot = Ventes_df[\"session_id\"].count()\n",
    "\n",
    "print(\"Le chiffre d'affaires total est de\", ca_tot, \"€\")\n",
    "print(\"pour un total de\", ventes_tot, \"ventes.\")"
   ]
  },
  {
   "cell_type": "code",
   "execution_count": 20,
   "metadata": {},
   "outputs": [
    {
     "name": "stdout",
     "output_type": "stream",
     "text": [
      "Chiffres d'affaires annuels:\n",
      " year\n",
      "2021   4771695.69\n",
      "2022   6109880.61\n",
      "2023    974360.17\n",
      "Name: price, dtype: float64\n",
      "Nombre de ventes annuelles:\n",
      " year\n",
      "2021    278335\n",
      "2022    346500\n",
      "2023     54497\n",
      "Name: session_id, dtype: int64\n"
     ]
    }
   ],
   "source": [
    "# CA annuel:\n",
    "ca_annuel = Ventes_df.groupby([\"year\"])[\"price\"].sum()\n",
    "print(\"Chiffres d'affaires annuels:\\n\", ca_annuel)\n",
    "\n",
    "# Nombre de ventes annuel:\n",
    "ventes_annuelles = Ventes_df.groupby([\"year\"])[\"session_id\"].count()\n",
    "print(\"Nombre de ventes annuelles:\\n\", ventes_annuelles)"
   ]
  },
  {
   "cell_type": "code",
   "execution_count": 21,
   "metadata": {},
   "outputs": [
    {
     "name": "stdout",
     "output_type": "stream",
     "text": [
      "356690   2023-02-28 23:58:30.792755\n",
      "Name: date, dtype: datetime64[ns]\n"
     ]
    }
   ],
   "source": [
    "print(Complet_df[\"date\"].nlargest(1))"
   ]
  },
  {
   "cell_type": "markdown",
   "metadata": {},
   "source": [
    "2022 est donc notre meilleure année en matière de chiffre d'affaires et de nombre de ventes jusqu'à maintenant, cependant les données de 2023 ne sont pas complètes, la dernière session datant du 28 février à 23h58. Il faudrait donc comparer mensuellement plutôt pour voir si la situation en février 2023 est meilleure que les années précédentes pour la même période. La représentation graphique n'est pas nécessaire ici."
   ]
  },
  {
   "cell_type": "code",
   "execution_count": 22,
   "metadata": {},
   "outputs": [
    {
     "data": {
      "text/plain": [
       "Text(0.5, 1.0, \"Evolution mensuelle du chiffre d'affaires\")"
      ]
     },
     "execution_count": 22,
     "metadata": {},
     "output_type": "execute_result"
    },
    {
     "data": {
      "image/png": "[encoded data removed]",
      "text/plain": [
       "<Figure size 1440x432 with 1 Axes>"
      ]
     },
     "metadata": {
      "needs_background": "light"
     },
     "output_type": "display_data"
    }
   ],
   "source": [
    "# CA mensuel:\n",
    "Ventes_df = Ventes_df.sort_values([\"date\"],ascending=True)\n",
    "ca_mensu = Ventes_df.groupby([\"year\",\"month\"])[\"price\"].sum()\n",
    "\n",
    "# Nombre de ventes mensuelles:\n",
    "ventes_mensu = Ventes_df.groupby([\"year\", \"month\"])[\"session_id\"].count()\n",
    "\n",
    "# Graphique:\n",
    "plt.figure(figsize = (20,6))\n",
    "ca_mensu.plot()\n",
    "plt.xlabel(\"Mois\")\n",
    "plt.ylabel(\"Montants (€)\")\n",
    "plt.title(\"Evolution mensuelle du chiffre d'affaires\")"
   ]
  },
  {
   "cell_type": "markdown",
   "metadata": {},
   "source": [
    "Baisse du chiffre d'affaires inattendue en octobre."
   ]
  },
  {
   "cell_type": "code",
   "execution_count": 23,
   "metadata": {},
   "outputs": [],
   "source": [
    "# Creation d'un dataframe specifique par categories avec fonction d'agregation:\n",
    "MensAg_df = Ventes_df[[\"categ\", \"price\", \"year\", \"month\"]]\n",
    "MensAg_df = pd.pivot_table(MensAg_df, index=[\"year\",\"month\"], columns=[\"categ\"], aggfunc=[\"sum\", \"count\"]).reset_index()\n",
    "MensAg_df.columns = [\"year\", \"month\", \"categ_0\", \"categ_1\", \"categ_2\", \"vol_categ_0\", \"vol_categ_1\", \"vol_categ_2\"]"
   ]
  },
  {
   "cell_type": "code",
   "execution_count": 24,
   "metadata": {},
   "outputs": [
    {
     "data": {
      "text/plain": [
       "Text(0.5, 1.0, 'évolution mensuelle du volume de vente par catégorie')"
      ]
     },
     "execution_count": 24,
     "metadata": {},
     "output_type": "execute_result"
    },
    {
     "data": {
      "image/png": "[encoded data removed]",
      "text/plain": [
       "<Figure size 1008x432 with 1 Axes>"
      ]
     },
     "metadata": {
      "needs_background": "light"
     },
     "output_type": "display_data"
    },
    {
     "data": {
      "image/png": "[encoded data removed]",
      "text/plain": [
       "<Figure size 1008x432 with 1 Axes>"
      ]
     },
     "metadata": {
      "needs_background": "light"
     },
     "output_type": "display_data"
    }
   ],
   "source": [
    "# Graphique CA par mois:\n",
    "MensAg_df[[\"categ_0\", \"categ_1\", \"categ_2\"]].plot.bar(figsize=(14,6),color=colors,edgecolor = \"grey\", linewidth = 1)\n",
    "plt.legend([\"catégorie 0\", \"catégorie 1\", \"catégorie 2\"])\n",
    "plt.xlabel(\"Mois\")\n",
    "plt.ylabel(\"Montants (€)\")\n",
    "plt.title(\"évolution mensuelle du chiffre d'affaires par catégories\")\n",
    "\n",
    "# Graphique volume des ventes:\n",
    "MensAg_df[[\"vol_categ_0\", \"vol_categ_1\", \"vol_categ_2\"]].plot.bar(figsize=(14,6),color=colors,edgecolor = \"grey\", linewidth = 1)\n",
    "plt.legend([\"catégorie 0\", \"catégorie 1\", \"catégorie 2\"])\n",
    "plt.xlabel(\"Mois\")\n",
    "plt.ylabel(\"Nombre de ventes\")\n",
    "plt.title(\"évolution mensuelle du volume de vente par catégorie\")"
   ]
  },
  {
   "cell_type": "code",
   "execution_count": 25,
   "metadata": {},
   "outputs": [
    {
     "name": "stdout",
     "output_type": "stream",
     "text": [
      "vol_categ_0   569.42\n",
      "vol_categ_1   311.19\n",
      "vol_categ_2    49.98\n",
      "dtype: float64\n"
     ]
    },
    {
     "name": "stderr",
     "output_type": "stream",
     "text": [
      "<ipython-input-25-b1a4dc4bc9cd>:7: FutureWarning: Indexing with multiple keys (implicitly converted to a tuple of keys) will be deprecated, use a list instead.\n",
      "  ventes_jour = MensAg_df.groupby([\"day\",\"month\",\"year\"])[\"vol_categ_0\", \"vol_categ_1\", \"vol_categ_2\"].sum().mean()\n"
     ]
    }
   ],
   "source": [
    "# Modification du dataframe specifique par categories avec fonction d'agregation:\n",
    "MensAg_df = Ventes_df[[\"categ\", \"price\", \"year\", \"month\",\"day\"]]\n",
    "MensAg_df = pd.pivot_table(MensAg_df, index=[\"year\",\"month\",\"day\"], columns=[\"categ\"], aggfunc=[\"sum\", \"count\"]).reset_index()\n",
    "MensAg_df.columns = [\"year\", \"month\",\"day\", \"categ_0\", \"categ_1\", \"categ_2\", \"vol_categ_0\", \"vol_categ_1\", \"vol_categ_2\"]\n",
    "\n",
    "# Nombre de ventes journalieres moyennes par mois:\n",
    "ventes_jour = MensAg_df.groupby([\"day\",\"month\",\"year\"])[\"vol_categ_0\", \"vol_categ_1\", \"vol_categ_2\"].sum().mean()\n",
    "print(ventes_jour)"
   ]
  },
  {
   "cell_type": "markdown",
   "metadata": {},
   "source": [
    "On remarque que les ventes de livres de catégorie 1 on subit une forte baisse au mois d'octobre 2021, cette baisse ne se retrouve pas plus tard, il semble qu'il y ait eu un problème."
   ]
  },
  {
   "cell_type": "code",
   "execution_count": 26,
   "metadata": {},
   "outputs": [
    {
     "data": {
      "image/png": "[encoded data removed]",
      "text/plain": [
       "<Figure size 3168x144 with 1 Axes>"
      ]
     },
     "metadata": {
      "needs_background": "light"
     },
     "output_type": "display_data"
    },
    {
     "data": {
      "image/png": "[encoded data removed]",
      "text/plain": [
       "<Figure size 3168x144 with 1 Axes>"
      ]
     },
     "metadata": {
      "needs_background": "light"
     },
     "output_type": "display_data"
    },
    {
     "data": {
      "image/png": "[encoded data removed]",
      "text/plain": [
       "<Figure size 3168x144 with 1 Axes>"
      ]
     },
     "metadata": {
      "needs_background": "light"
     },
     "output_type": "display_data"
    }
   ],
   "source": [
    "# On se penche en detail sur le mois d'octobre 2021:\n",
    "Octobre_df = Ventes_df.loc[(Ventes_df[\"year\"] == 2021) & (Ventes_df[\"month\"] == 10), [\"day\", \"price\",\"categ\"]]\n",
    "Octobre_df = Octobre_df.groupby([\"day\",\"categ\"]).agg({\"price\":[\"sum\",\"count\"]}).reset_index()\n",
    "Octobre_df.columns = [\"day\", \"categ\", \"ca\", \"volume\"]\n",
    "Octobre_df = pd.pivot_table(Octobre_df, columns=[\"categ\"], index=[\"day\"]).reset_index()\n",
    "Octobre_df.columns = [\"day\", 'ca_0', 'ca_1', 'ca_2', 'vol_0', 'vol_1', 'vol_2']\n",
    "\n",
    "color=colors\n",
    "for i, cat in enumerate([0,1,2]):\n",
    "    plt.figure(figsize=(44,2))\n",
    "    plt.subplot(1,2,2)\n",
    "    plt.bar(Octobre_df[\"day\"], Octobre_df[f'vol_{cat}'], width=0.5, color=color[i],edgecolor = \"grey\", linewidth = 1)\n",
    "    plt.xlabel(\"Dates (octobre 2021)\")\n",
    "    plt.ylabel(f'cat {cat}')\n",
    "    plt.title(\"Volume de ventes journalières pour octobre 2021\")\n",
    "    plt.show()\n"
   ]
  },
  {
   "cell_type": "markdown",
   "metadata": {},
   "source": [
    "Il n'y a pas eu de ventes de livres de catégorie 1 entre le 1er et le 28 octobre 2021, ce qui est probablement dû à un problème d'acquisition des données dans notre pipeline."
   ]
  },
  {
   "cell_type": "code",
   "execution_count": 27,
   "metadata": {},
   "outputs": [
    {
     "data": {
      "image/png": "[encoded data removed]",
      "text/plain": [
       "<Figure size 432x288 with 4 Axes>"
      ]
     },
     "execution_count": 27,
     "metadata": {},
     "output_type": "execute_result"
    },
    {
     "data": {
      "image/png": "[encoded data removed]",
      "text/plain": [
       "<Figure size 432x288 with 4 Axes>"
      ]
     },
     "metadata": {
      "needs_background": "light"
     },
     "output_type": "display_data"
    }
   ],
   "source": [
    "# Saisonnalite et tendance:\n",
    "Ventes_df.reset_index(inplace=True)\n",
    "Ventes_df[\"date\"] = pd.to_datetime(Ventes_df[\"date\"])\n",
    "Ventes_df = Ventes_df.set_index(\"date\")\n",
    "\n",
    "sm.tsa.seasonal_decompose(Ventes_df[\"price\"],period=325000).plot()"
   ]
  },
  {
   "cell_type": "code",
   "execution_count": 28,
   "metadata": {},
   "outputs": [
    {
     "data": {
      "image/png": "[encoded data removed]",
      "text/plain": [
       "<Figure size 1260x420 with 1 Axes>"
      ]
     },
     "metadata": {
      "needs_background": "light"
     },
     "output_type": "display_data"
    }
   ],
   "source": [
    "from statsmodels.tsa.seasonal import seasonal_decompose\n",
    "s=sm.tsa.seasonal_decompose(Ventes_df.price, period=6, extrapolate_trend=1)\n",
    "#s.resid\n",
    "s.seasonal\n",
    "s.trend\n",
    "\n",
    "# Graphique:\n",
    "plt.figure(figsize = (18,6), dpi=70).suptitle(\"Saisonnalité du chiffre d'affaires\", fontsize=20)\n",
    "plt.plot(s.seasonal)\n",
    "plt.xticks(rotation=90)\n",
    "plt.xlabel(\"Période\", fontsize=16)\n",
    "plt.ylabel(\"Variation du chiffre d'affaires\", fontsize=16)\n",
    "plt.show()"
   ]
  },
  {
   "cell_type": "code",
   "execution_count": 29,
   "metadata": {},
   "outputs": [
    {
     "name": "stdout",
     "output_type": "stream",
     "text": [
      "[[ 1.         -0.00227463]\n",
      " [-0.00227463  1.        ]]\n"
     ]
    }
   ],
   "source": [
    "# Autocorrelation\n",
    "autocor = np.corrcoef(np.array([Ventes_df[\"price\"][:-1], Ventes_df[\"price\"][1:]]))\n",
    "print(autocor)"
   ]
  },
  {
   "cell_type": "code",
   "execution_count": 30,
   "metadata": {},
   "outputs": [
    {
     "name": "stdout",
     "output_type": "stream",
     "text": [
      "year  month\n",
      "2021  3             NaN\n",
      "      4             NaN\n",
      "      5       483934.36\n",
      "      6       484477.01\n",
      "      7       486685.75\n",
      "      8       483136.18\n",
      "      9       490870.21\n",
      "      10      436867.98\n",
      "      11      448165.62\n",
      "      12      454374.50\n",
      "2022  1       522547.93\n",
      "      2       529019.18\n",
      "      3       525545.58\n",
      "      4       514795.54\n",
      "      5       508665.89\n",
      "      6       502172.43\n",
      "      7       508093.83\n",
      "      8       504512.08\n",
      "      9       503884.88\n",
      "      10      502923.10\n",
      "      11      499665.65\n",
      "      12      505023.98\n",
      "2023  1       508221.58\n",
      "      2       494879.87\n",
      "Name: price, dtype: float64\n"
     ]
    },
    {
     "data": {
      "text/plain": [
       "Text(0.5, 1.0, \"Moyenne mobile du chiffre d'affaire\")"
      ]
     },
     "execution_count": 30,
     "metadata": {},
     "output_type": "execute_result"
    },
    {
     "data": {
      "image/png": "[encoded data removed]",
      "text/plain": [
       "<Figure size 432x288 with 1 Axes>"
      ]
     },
     "metadata": {
      "needs_background": "light"
     },
     "output_type": "display_data"
    }
   ],
   "source": [
    "# Decomposition en moyenne mobile:\n",
    "MovingAverage = ca_mensu.rolling(3).mean()\n",
    "print(MovingAverage)\n",
    "\n",
    "# Graphique:\n",
    "MovingAverage.plot()\n",
    "plt.xlabel(\"Période\")\n",
    "plt.ylabel(\"Chiffre d'affaires (€)\")\n",
    "plt.title(\"Moyenne mobile du chiffre d'affaire\")"
   ]
  },
  {
   "cell_type": "markdown",
   "metadata": {},
   "source": [
    "Zoom sur les références:\n",
    "---"
   ]
  },
  {
   "cell_type": "code",
   "execution_count": 31,
   "metadata": {},
   "outputs": [
    {
     "name": "stdout",
     "output_type": "stream",
     "text": [
      "Références les plus vendues\n",
      "id_prod\n",
      "1_369    2252\n",
      "1_417    2189\n",
      "1_414    2180\n",
      "1_498    2128\n",
      "1_425    2096\n",
      "1_403    1960\n",
      "1_412    1951\n",
      "1_413    1945\n",
      "1_406    1939\n",
      "1_407    1935\n",
      "Name: session_id, dtype: int64\n",
      "Références les moins vendues\n",
      "id_prod\n",
      "0_1151    1\n",
      "0_1284    1\n",
      "0_1379    1\n",
      "0_1498    1\n",
      "0_1539    1\n",
      "0_1601    1\n",
      "0_1633    1\n",
      "0_1683    1\n",
      "0_1728    1\n",
      "0_2201    1\n",
      "Name: session_id, dtype: int64\n"
     ]
    }
   ],
   "source": [
    "# Meilleures et pires ventes:\n",
    "nbr_ventes_ref = Ventes_df.groupby([\"id_prod\"])[\"session_id\"].count()\n",
    "\n",
    "print(\"Références les plus vendues\")\n",
    "print(nbr_ventes_ref.nlargest(10))\n",
    "print(\"Références les moins vendues\")\n",
    "print(nbr_ventes_ref.nsmallest(10))"
   ]
  },
  {
   "cell_type": "markdown",
   "metadata": {},
   "source": [
    "Nos 10 best sellers appartiennent tous à la catégorie 1 tandis que les dix pires ventes hors des 21 produits non vendus appartiennent à la catégorie 0."
   ]
  },
  {
   "cell_type": "code",
   "execution_count": 32,
   "metadata": {},
   "outputs": [
    {
     "name": "stdout",
     "output_type": "stream",
     "text": [
      "indice de Gini: 0.694\n"
     ]
    },
    {
     "data": {
      "image/png": "[encoded data removed]",
      "text/plain": [
       "<Figure size 432x288 with 1 Axes>"
      ]
     },
     "metadata": {
      "needs_background": "light"
     },
     "output_type": "display_data"
    }
   ],
   "source": [
    "# Courbe de Lorentz: (Repartition du CA par produits)\n",
    "lorenz_CA_prod = np.cumsum(np.sort(nbr_ventes_ref)) / nbr_ventes_ref.sum()\n",
    "lorenz_CA_prod = np.append([0], lorenz_CA_prod)\n",
    "plt.plot(np.linspace(0,1,len(lorenz_CA_prod)), lorenz_CA_prod, drawstyle='steps-post'),\n",
    "plt.plot(np.linspace(0,1,len(lorenz_CA_prod)), np.linspace(0,1,len(lorenz_CA_prod)),color =\"grey\", dashes=[2,4])\n",
    "plt.ylabel(\"Parts cumulées du chiffre d'affaires\")\n",
    "plt.xlabel(\"Parts cumulées des produits\")\n",
    "plt.title(\"Répartition du chiffre d'affaires entre les produits\")\n",
    "aire_ss_courbe_CA_prod = lorenz_CA_prod[:-1].sum() / len(lorenz_CA_prod)\n",
    "S_ca_prod = 0.5 - aire_ss_courbe_CA_prod\n",
    "gini_CA_prod = 2* S_ca_prod\n",
    "print(\"indice de Gini:\",round(gini_CA_prod,3))"
   ]
  },
  {
   "cell_type": "markdown",
   "metadata": {},
   "source": [
    "L'indice de Gini s'éloigne fortement de 0, le poids des produits dans le chiffre d'affaires global est donc très inégal."
   ]
  },
  {
   "cell_type": "code",
   "execution_count": 33,
   "metadata": {},
   "outputs": [
    {
     "name": "stdout",
     "output_type": "stream",
     "text": [
      "Répartitions des références par catégories:\n",
      " categ\n",
      "0    2308\n",
      "1     739\n",
      "2     239\n",
      "Name: id_prod, dtype: int64\n",
      "Nombre de ventes par catégories:\n",
      " categ\n",
      "0.00    415680\n",
      "1.00    227169\n",
      "2.00     36483\n",
      "Name: index, dtype: int64\n",
      "Prix moyen d'un livre selon sa catégorie:\n",
      " categ\n",
      "0    11.73\n",
      "1    25.53\n",
      "2   108.35\n",
      "Name: price, dtype: float64\n",
      "Chiffre d'affaires par catégorie\n",
      " categ\n",
      "0.00   4421938.76\n",
      "1.00   4653722.69\n",
      "2.00   2780275.02\n",
      "Name: price, dtype: float64\n"
     ]
    },
    {
     "data": {
      "image/png": "[encoded data removed]",
      "text/plain": [
       "<Figure size 432x288 with 1 Axes>"
      ]
     },
     "metadata": {},
     "output_type": "display_data"
    }
   ],
   "source": [
    "# Repartition des references parmis les categories:\n",
    "repartition_categ = Products_df.groupby([\"categ\"])[\"id_prod\"].count()\n",
    "print(\"Répartitions des références par catégories:\\n\",repartition_categ)\n",
    "\n",
    "# Volume de ventes par categories:\n",
    "vol_categ = Ventes_df.groupby([\"categ\"])[\"index\"].count()\n",
    "\n",
    "print(\"Nombre de ventes par catégories:\\n\", vol_categ)\n",
    "\n",
    "# Prix moyen par categories:\n",
    "prix_categ = Products_df.groupby([\"categ\"])[\"price\"].mean()\n",
    "print(\"Prix moyen d'un livre selon sa catégorie:\\n\",prix_categ)\n",
    "\n",
    "# CA par categories:\n",
    "ca_categ = Ventes_df.groupby(Ventes_df[\"categ\"])[\"price\"].sum()\n",
    "print(\"Chiffre d'affaires par catégorie\\n\",ca_categ)\n",
    "\n",
    "# Graphique:\n",
    "fig1, ax1 = plt.subplots()\n",
    "ax1.pie(ca_categ,\n",
    "        labels=[\"0\",\"1\",\"2\"],\n",
    "        autopct=\"%1.1f%%\",\n",
    "        colors=colors,\n",
    "        shadow=True)\n",
    "ax1.axis(\"equal\")\n",
    "plt.title(\"Répartition du chiffre d'affaires par catégories\")\n",
    "plt.show()"
   ]
  },
  {
   "cell_type": "markdown",
   "metadata": {},
   "source": [
    "Différences de prix marquées, en particulier pour les livres de la catégorie 2. On note également que nos meilleures ventes se font sur la catégorie 1 qui est la catégorie intermédiaire en prix moyen."
   ]
  },
  {
   "cell_type": "markdown",
   "metadata": {},
   "source": [
    "Profils clients\n",
    "---"
   ]
  },
  {
   "cell_type": "code",
   "execution_count": 34,
   "metadata": {},
   "outputs": [
    {
     "name": "stdout",
     "output_type": "stream",
     "text": [
      "Clients ayant le plus dépensé\n",
      "client_id\n",
      "c_1609   324033.35\n",
      "c_4958   289760.34\n",
      "c_6714   153658.86\n",
      "c_3454   113667.90\n",
      "c_3263     5276.87\n",
      "c_1570     5271.62\n",
      "c_2899     5214.05\n",
      "c_2140     5208.82\n",
      "c_7319     5155.77\n",
      "c_8026     5092.57\n",
      "Name: price, dtype: float64\n"
     ]
    }
   ],
   "source": [
    "# Meilleurs clients:\n",
    "best_client = Ventes_df.groupby([\"client_id\"])[\"price\"].sum()\n",
    "\n",
    "print(\"Clients ayant le plus dépensé\")\n",
    "print(best_client.nlargest(10))"
   ]
  },
  {
   "cell_type": "markdown",
   "metadata": {},
   "source": [
    "c_1609, (homme 41ans) achète plusieurs fois les mêmes livres, il peut s'agir d'un revendeur (libraires, bibliothécaires), les trois autres aussi d'ailleurs.\n",
    "Il est possible de proposer un accompagnement presonnalisé à ces clients puisqu'ils n'auront pas les mêmes besoins que des particuliers."
   ]
  },
  {
   "cell_type": "code",
   "execution_count": 35,
   "metadata": {},
   "outputs": [
    {
     "name": "stdout",
     "output_type": "stream",
     "text": [
      "Le nombre moyen d'achat par client depuis l'ouverture de notre site est 78.8\n",
      "Le montant moyen d'achat par client depuis l'ouverture de notre site est 1378.6\n"
     ]
    }
   ],
   "source": [
    "# Nombre d'achats et montant moyen par client:\n",
    "nbr_achats_moy = Complet_df.groupby([\"client_id\"])[\"session_id\"].count().mean()\n",
    "montant_achats_moy = Ventes_df.groupby([\"client_id\"])[\"price\"].sum().mean()\n",
    "\n",
    "print(\"Le nombre moyen d'achat par client depuis l'ouverture de notre site est\", round(nbr_achats_moy,2))\n",
    "print(\"Le montant moyen d'achat par client depuis l'ouverture de notre site est\", round(montant_achats_moy,2))"
   ]
  },
  {
   "cell_type": "code",
   "execution_count": 36,
   "metadata": {},
   "outputs": [
    {
     "name": "stdout",
     "output_type": "stream",
     "text": [
      "indice de Gini: 0.447\n"
     ]
    },
    {
     "data": {
      "image/png": "[encoded data removed]",
      "text/plain": [
       "<Figure size 432x288 with 1 Axes>"
      ]
     },
     "metadata": {
      "needs_background": "light"
     },
     "output_type": "display_data"
    }
   ],
   "source": [
    "# Courbe de Lorentz: (repartition du CA par clients)\n",
    "lorenz_CA_client = np.cumsum(np.sort(best_client)) / best_client.sum()\n",
    "lorenz_CA_client = np.append([0], lorenz_CA_client)\n",
    "plt.plot(np.linspace(0,1,len(lorenz_CA_client)), lorenz_CA_client, drawstyle=\"steps-post\")\n",
    "plt.plot(np.linspace(0,1,len(lorenz_CA_client)), np.linspace(0,1,len(lorenz_CA_client)), color =\"grey\", dashes=[2,4])\n",
    "plt.ylabel(\"Parts cumulées du chiffre d'affaires\")\n",
    "plt.xlabel(\"Parts cumulées des achats\")\n",
    "plt.title(\"Répartition du chiffre d'affaires entre les clients\")\n",
    "aire_ss_courbe_CA_client = lorenz_CA_client[:-1].sum() / len(lorenz_CA_client)\n",
    "S_ca_client = 0.5 - aire_ss_courbe_CA_client\n",
    "gini_CA_client = 2*S_ca_client\n",
    "print(\"indice de Gini:\",round(gini_CA_client,3))"
   ]
  },
  {
   "cell_type": "code",
   "execution_count": 37,
   "metadata": {},
   "outputs": [
    {
     "name": "stdout",
     "output_type": "stream",
     "text": [
      "Il y a eu 342315 sessions\n",
      "Une session aboutie en moyenne à 1.98 achats\n"
     ]
    }
   ],
   "source": [
    "# Nombre moyen d'achats par sessions:\n",
    "print(\"Il y a eu\",\n",
    "      Complet_df[\"session_id\"].nunique(),\n",
    "      \"sessions\")\n",
    "\n",
    "print(\"Une session aboutie en moyenne à\",\n",
    "      round(Complet_df.groupby([\"session_id\",\"client_id\"])[\"id_prod\"].count().mean(),2),\n",
    "      \"achats\")"
   ]
  },
  {
   "cell_type": "markdown",
   "metadata": {},
   "source": [
    "Il y a 342 315 sessions pour un total de 679 332 transactions, il est donc courant d'avoir plusieurs transactions par sessions.\n",
    "En moyenne une session aboutie sur 1,98 achats."
   ]
  },
  {
   "cell_type": "markdown",
   "metadata": {},
   "source": [
    "Analyse ciblée clients:\n",
    "==="
   ]
  },
  {
   "cell_type": "code",
   "execution_count": 38,
   "metadata": {},
   "outputs": [
    {
     "name": "stdout",
     "output_type": "stream",
     "text": [
      "sex\n",
      "f    4490\n",
      "m    4131\n",
      "Name: client_id, dtype: int64\n"
     ]
    },
    {
     "data": {
      "image/png": "[encoded data removed]",
      "text/plain": [
       "<Figure size 432x288 with 1 Axes>"
      ]
     },
     "metadata": {},
     "output_type": "display_data"
    }
   ],
   "source": [
    "# Repartition des genres parmis nos clients:\n",
    "repartition_genre = Customers_df.groupby([\"sex\"])[\"client_id\"].count()\n",
    "print(repartition_genre)\n",
    "\n",
    "# Graphique:\n",
    "fig2, ax2 = plt.subplots()\n",
    "ax2.pie(repartition_genre,\n",
    "        labels=[\"Femmes\",\"Homme\"],\n",
    "        autopct=\"%1.1f%%\",\n",
    "        colors=[\"#d2a0f2\",\"#0abdc0\"],\n",
    "        shadow=True)\n",
    "ax2.axis(\"equal\")\n",
    "plt.title(\"Répartition des genres au sein de notre clientèle\")\n",
    "plt.show()"
   ]
  },
  {
   "cell_type": "code",
   "execution_count": 39,
   "metadata": {},
   "outputs": [
    {
     "name": "stdout",
     "output_type": "stream",
     "text": [
      "montant total des achats par genre:\n",
      " sex\n",
      "f   5860851.96\n",
      "m   5995084.51\n",
      "Name: price, dtype: float64\n",
      "nombre total d'achats par genre:\n",
      " sex\n",
      "f    338402\n",
      "m    340930\n",
      "Name: price, dtype: int64\n",
      "montant moyen des achats par genre:\n",
      " sex\n",
      "f   17.32\n",
      "m   17.58\n",
      "Name: price, dtype: float64\n"
     ]
    },
    {
     "data": {
      "image/png": "[encoded data removed]",
      "text/plain": [
       "<Figure size 432x288 with 1 Axes>"
      ]
     },
     "metadata": {},
     "output_type": "display_data"
    }
   ],
   "source": [
    "# Depenses par genres:\n",
    "repartition_achats_genre = Ventes_df.groupby([\"sex\"])[\"price\"].sum()\n",
    "print(\"montant total des achats par genre:\\n\", repartition_achats_genre)\n",
    "\n",
    "nbr_achats_genre = Ventes_df.groupby([\"sex\"])[\"price\"].count()\n",
    "print(\"nombre total d'achats par genre:\\n\", nbr_achats_genre)\n",
    "\n",
    "moy_achats_genre = Ventes_df.groupby([\"sex\"])[\"price\"].mean()\n",
    "print(\"montant moyen des achats par genre:\\n\", moy_achats_genre)\n",
    "\n",
    "\n",
    "# Graphique:\n",
    "fig3, ax3 = plt.subplots()\n",
    "ax3.pie(repartition_achats_genre,\n",
    "        labels=[\"Femmes\",\"Homme\"],\n",
    "        autopct=\"%1.1f%%\",\n",
    "        colors=[\"#d2a0f2\",\"#0abdc0\"],\n",
    "        shadow=True)\n",
    "ax3.axis(\"equal\")\n",
    "plt.title(\"Participation au chiffre d'affaires par genres\")\n",
    "plt.show()"
   ]
  },
  {
   "cell_type": "code",
   "execution_count": 40,
   "metadata": {},
   "outputs": [
    {
     "name": "stdout",
     "output_type": "stream",
     "text": [
      "categ    0.00    1.00   2.00\n",
      "sex                         \n",
      "f      206220  114899  17283\n",
      "m      209460  112270  19200\n",
      "Les fréquences théoriques sont:\n",
      " [[207066.56444861 113161.81769444  18173.61785695]\n",
      " [208613.43555139 114007.18230556  18309.38214305]] 3\n",
      "Ce qui donne un X² de 147.003 à 2 ddl\n",
      "soit une p-value de 1.1989607410166063e-32\n",
      "Le V de Cramer vaux: 0.014710294817475282\n"
     ]
    }
   ],
   "source": [
    "# Table de contingence pour Chi²:\n",
    "categ_sex = pd.crosstab(Ventes_df[\"sex\"],Ventes_df[\"categ\"])\n",
    "print(categ_sex)\n",
    "\n",
    "# Chi²:\n",
    "cs_chi2, cs_p, cs_dof, cs_exp = st.chi2_contingency(categ_sex)\n",
    "\n",
    "print(\"Les fréquences théoriques sont:\\n\", cs_exp,3)\n",
    "print(f\"Ce qui donne un X² de {cs_chi2:.3f} à\", cs_dof, \"ddl\")\n",
    "print(f\"soit une p-value de\", cs_p)\n",
    "\n",
    "# Calcul V de Cramer:\n",
    "n_cs = len(Ventes_df)\n",
    "minDim_cs = min(categ_sex.shape)-1\n",
    "\n",
    "V_cs = np.sqrt((cs_chi2/n_cs) / minDim_cs)\n",
    "\n",
    "print(\"Le V de Cramer vaux:\", V_cs)"
   ]
  },
  {
   "cell_type": "markdown",
   "metadata": {},
   "source": [
    "L'hypothèse nulle est ici l'indépendance des variables catégories achetées et genre.\n",
    "Dans tous les cas que l'on prenne un seuil à 5% (0,05) ou 1% (0,01), la p-value sera ici toujours très inférieure au seuil de significativité, l'hypothèse nulle est rejetée, les catégories des livres achetées ne dépendent donc pas du genre de l'acheteur."
   ]
  },
  {
   "cell_type": "code",
   "execution_count": 41,
   "metadata": {},
   "outputs": [
    {
     "data": {
      "text/plain": [
       "[]"
      ]
     },
     "execution_count": 41,
     "metadata": {},
     "output_type": "execute_result"
    },
    {
     "data": {
      "image/png": "[encoded data removed]",
      "text/plain": [
       "<Figure size 432x288 with 2 Axes>"
      ]
     },
     "metadata": {
      "needs_background": "light"
     },
     "output_type": "display_data"
    }
   ],
   "source": [
    "# Heat map pour identifier les cellules les plus influantes sur le Chi²:\n",
    "len_i = categ_sex.shape[0]\n",
    "len_j = categ_sex.shape[1]\n",
    "xij = np.zeros((len_i, len_j))\n",
    "for i in range(len_i):\n",
    "    for j in range(len_j):\n",
    "        xij[i,j] = (categ_sex.values[i,j]-cs_exp[i,j])**2 / cs_exp[i,j]\n",
    "\n",
    "sns.heatmap(xij/cs_chi2,\n",
    "            annot=categ_sex,\n",
    "            fmt='d',\n",
    "            yticklabels=[\"Femmes\",\"Hommes\"],\n",
    "            xticklabels=[\"Catégorie 0\", \"Catégorie 1\", \"Catégorie 2\"])\n",
    "plt.title(\"Heat map de l'influence de chaque cellule sur notre Chi²\")\n",
    "plt.plot()"
   ]
  },
  {
   "cell_type": "markdown",
   "metadata": {},
   "source": [
    "La map nous confirme qu'il n'y a que peu de variations entre genres au sein des catégories, l'achat d'une catégorie en particulier ne dépenderait donc pas du genre de l'acheteur."
   ]
  },
  {
   "cell_type": "code",
   "execution_count": 42,
   "metadata": {},
   "outputs": [
    {
     "data": {
      "image/png": "[encoded data removed]",
      "text/plain": [
       "<Figure size 432x288 with 1 Axes>"
      ]
     },
     "metadata": {
      "needs_background": "light"
     },
     "output_type": "display_data"
    }
   ],
   "source": [
    "# Repartition des ages parmis nos clients:\n",
    "sns.histplot(data=Complet_df[\"age\"],\n",
    "             bins=40,\n",
    "             kde=True)\n",
    "plt.title(\"Répartition des âges au sein de notre clientèle\")\n",
    "plt.ylabel(\"Nombre de clients\")\n",
    "plt.xlabel(\"Age (années)\")\n",
    "plt.show()"
   ]
  },
  {
   "cell_type": "code",
   "execution_count": 43,
   "metadata": {},
   "outputs": [
    {
     "name": "stdout",
     "output_type": "stream",
     "text": [
      "AndersonResult(statistic=54.304839298933075, critical_values=array([0.576, 0.656, 0.787, 0.918, 1.091]), significance_level=array([15. , 10. ,  5. ,  2.5,  1. ]))\n"
     ]
    }
   ],
   "source": [
    "# Test de Normalite de la repartition des ages:\n",
    "print(st.anderson(Customers_df[\"age\"], dist=\"norm\"))"
   ]
  },
  {
   "cell_type": "markdown",
   "metadata": {},
   "source": [
    "On utilise le test d'Anderson Darling car il est non paramétrique et utilisé pour les grands échantillons.\n",
    "H0 = les données suivent une distribution normale\n",
    "alpha 1%\n",
    "statistique du test d'Anderson (54) > valeure critique (1)\n",
    "On rejette H0.\n",
    "On considère que l'âge ne suit pas une distribution normale avec un risque d'erreure 1%\n",
    "\n",
    "Autres tests possibles mais moins puissants/appropriés:\n",
    "- print(st.shapiro(Customers_df[\"age\"]))\n",
    "- print(st.jarque_bera(Customers_df[\"age\"]))\n",
    "- print(st.kstest(Customers_df[\"age\"], cdf=\"norm\"))"
   ]
  },
  {
   "cell_type": "code",
   "execution_count": 44,
   "metadata": {},
   "outputs": [
    {
     "name": "stdout",
     "output_type": "stream",
     "text": [
      "montant total des achats par tranches d'age:\n",
      " age_range\n",
      "(0, 30]     3519169.68\n",
      "(30, 60]    6978995.72\n",
      "(60, 110]   1357771.07\n",
      "Name: price, dtype: float64\n",
      "nombre total d'achats par tranches d'age:\n",
      " age_range\n",
      "(0, 30]       96642\n",
      "(30, 60]     501634\n",
      "(60, 110]     81056\n",
      "Name: price, dtype: int64\n",
      "montant moyen des achats par tranches d'age:\n",
      " age_range\n",
      "(0, 30]     36.41\n",
      "(30, 60]    13.91\n",
      "(60, 110]   16.75\n",
      "Name: price, dtype: float64\n"
     ]
    }
   ],
   "source": [
    "# Ajout des tranches d'ages:\n",
    "Ventes_df[\"age_range\"] = pd.cut(x= Ventes_df[\"age\"], bins=[0,30,60,110], include_lowest=False, ordered=True)\n",
    "\n",
    "# Repartition des achats par tranches d'ages:\n",
    "repartition_achats_age_range = Ventes_df.groupby([\"age_range\"])[\"price\"].sum()\n",
    "print(\"montant total des achats par tranches d'age:\\n\", repartition_achats_age_range)\n",
    "\n",
    "# Nombre d'achats par tranches d'ages:\n",
    "nbr_achats_age_range = Ventes_df.groupby([\"age_range\"])[\"price\"].count()\n",
    "print(\"nombre total d'achats par tranches d'age:\\n\",nbr_achats_age_range)\n",
    "\n",
    "# Motant moyen des achats par tranches d'ages:\n",
    "moy_achats_age_range = Ventes_df.groupby([\"age_range\"])[\"price\"].mean()\n",
    "print(\"montant moyen des achats par tranches d'age:\\n\", moy_achats_age_range)"
   ]
  },
  {
   "cell_type": "markdown",
   "metadata": {},
   "source": [
    "Bien que les moins de 30 ans dépensent plus en moyenne par achats ils nous rapportent moins que les 30- 60 ans qui font beaucoup plus d'achats sur notre site et donc nous rapportent plus en terme de chiffre brut. Cela est très probablement dû à leur sur représentation au sein de nontre base de clientèle. Il serait intéressant de cibler pour les prochaines campagnes marketing les moins de 30 ans afin d'en augmenter le nombre parmi notre clientèle."
   ]
  },
  {
   "cell_type": "code",
   "execution_count": 45,
   "metadata": {},
   "outputs": [
    {
     "name": "stdout",
     "output_type": "stream",
     "text": [
      "Corrélation de Speraman: SpearmanrResult(correlation=-0.8576076555023923, pvalue=4.57972879340901e-23)\n"
     ]
    },
    {
     "data": {
      "text/plain": [
       "Text(0.5, 1.0, 'Motant des achats par âges')"
      ]
     },
     "execution_count": 45,
     "metadata": {},
     "output_type": "execute_result"
    },
    {
     "data": {
      "image/png": "[encoded data removed]",
      "text/plain": [
       "<Figure size 432x288 with 1 Axes>"
      ]
     },
     "metadata": {
      "needs_background": "light"
     },
     "output_type": "display_data"
    }
   ],
   "source": [
    "# Lien entre l'age et le montant des achats:\n",
    "age = Ventes_df.groupby([\"age\"])[\"client_id\"].count()\n",
    "tot_achats_age = Ventes_df.groupby([\"age\"])[\"price\"].sum()\n",
    "\n",
    "# Correlation entre l'age et le montant total des achats:\n",
    "print(\"Corrélation de Speraman:\", st.spearmanr(tot_achats_age.index, tot_achats_age.values))\n",
    "\n",
    "# Graphique:\n",
    "sns.scatterplot(data= tot_achats_age)\n",
    "plt.ylabel(\"Montant (€)\")\n",
    "plt.xlabel(\"Age (années)\")\n",
    "plt.title(\"Motant des achats par âges\")"
   ]
  },
  {
   "cell_type": "markdown",
   "metadata": {},
   "source": [
    "Les ages ne suivent pas une distribution Normale, le test est forcément non pramétrique, on utilise donc un test de corrélation de Spearman."
   ]
  },
  {
   "cell_type": "code",
   "execution_count": 46,
   "metadata": {},
   "outputs": [
    {
     "name": "stdout",
     "output_type": "stream",
     "text": [
      "Corrélation de Speraman: SpearmanrResult(correlation=-0.6846206425153794, pvalue=9.152883867240306e-12)\n"
     ]
    },
    {
     "data": {
      "text/plain": [
       "Text(0.5, 1.0, \"Nombre d'achats selon l'âge\")"
      ]
     },
     "execution_count": 46,
     "metadata": {},
     "output_type": "execute_result"
    },
    {
     "data": {
      "image/png": "[encoded data removed]",
      "text/plain": [
       "<Figure size 432x288 with 1 Axes>"
      ]
     },
     "metadata": {
      "needs_background": "light"
     },
     "output_type": "display_data"
    }
   ],
   "source": [
    "# Lien entre l'age et la taille du panier:\n",
    "nbr_achats_age = Ventes_df.groupby([\"age\"])[\"session_id\"].count()\n",
    "\n",
    "# Correlation entre l'age et le montant total des achats:\n",
    "print(\"Corrélation de Speraman:\", st.spearmanr(nbr_achats_age.index,nbr_achats_age.values))\n",
    "\n",
    "# Graphique:\n",
    "sns.scatterplot(data= nbr_achats_age)\n",
    "plt.ylabel(\"Nombre d'achats\")\n",
    "plt.xlabel(\"Age (années)\")\n",
    "plt.title(\"Nombre d'achats selon l'âge\")"
   ]
  },
  {
   "cell_type": "code",
   "execution_count": 47,
   "metadata": {},
   "outputs": [
    {
     "data": {
      "image/png": "[encoded data removed]",
      "text/plain": [
       "<Figure size 432x288 with 1 Axes>"
      ]
     },
     "metadata": {
      "needs_background": "light"
     },
     "output_type": "display_data"
    }
   ],
   "source": [
    "# Categories les plus achetees par age:\n",
    "categ = Ventes_df[\"categ\"].unique()\n",
    "categ_age = {categ: Ventes_df.loc[Ventes_df[\"categ\"]==categ, \"age\"] for categ in categ}\n",
    "\n",
    "# Graphique:\n",
    "plt.boxplot([\n",
    "    categ_age[0],\n",
    "    categ_age[1],\n",
    "    categ_age[2]]\n",
    "    ,labels=[\"Catégorie 0\", \"Catégorie 1\", \"Catégorie 2\"],showmeans=True, showfliers=False)\n",
    "plt.ylabel(\"Age (années)\")\n",
    "plt.title(\"Distribution des âges des acheteurs par catégories\")\n",
    "plt.show()"
   ]
  },
  {
   "cell_type": "code",
   "execution_count": 48,
   "metadata": {},
   "outputs": [
    {
     "name": "stdout",
     "output_type": "stream",
     "text": [
      "<class 'numpy.ndarray'>\n",
      "KruskalResult(statistic=79350.86927924873, pvalue=0.0)\n"
     ]
    }
   ],
   "source": [
    "# Lien entre age et categorie achetees:\n",
    "print(type(categ_age[0].values))\n",
    "print(st.kruskal(categ_age[0], categ_age[1], categ_age[2]))"
   ]
  },
  {
   "cell_type": "markdown",
   "metadata": {},
   "source": [
    "Le test de Kruskal Wallis, est non paramétrique, les groupes doivent contenir plus de cinq individus. p-val < 0,01 on rejette l'hypothèse nulle selon laquelle il n'y aurait pas de différence entre l'âge median d'achat par catégorie.\n",
    "Kruskal est un test de rang."
   ]
  },
  {
   "cell_type": "code",
   "execution_count": 49,
   "metadata": {},
   "outputs": [
    {
     "name": "stdout",
     "output_type": "stream",
     "text": [
      "age\n",
      "17   629.96\n",
      "18   204.12\n",
      "19   202.09\n",
      "20   181.12\n",
      "21   192.34\n",
      "      ...  \n",
      "88    14.95\n",
      "89    11.42\n",
      "90     6.61\n",
      "91     8.07\n",
      "92     6.51\n",
      "Name: session_id, Length: 76, dtype: float64\n",
      "Corrélation de Speraman: SpearmanrResult(correlation=0.20608355165108688, pvalue=4.272028369734415e-83)\n"
     ]
    },
    {
     "data": {
      "text/plain": [
       "Text(0.5, 1.0, \"Fréquence mensuelle d'achat par âge\")"
      ]
     },
     "execution_count": 49,
     "metadata": {},
     "output_type": "execute_result"
    },
    {
     "data": {
      "image/png": "[encoded data removed]",
      "text/plain": [
       "<Figure size 432x288 with 1 Axes>"
      ]
     },
     "metadata": {
      "needs_background": "light"
     },
     "output_type": "display_data"
    }
   ],
   "source": [
    "# Frequence d'achat mensuelle:\n",
    "freq_mensu= Ventes_df.groupby([\"client_id\", \"year\", \"month\"])[\"session_id\"].nunique().groupby([\"client_id\"]).mean().reset_index()\n",
    "\n",
    "# Ajout des ages au df frequence mensuelle:\n",
    "freq_mensu = pd.merge(Customers_df, freq_mensu, on=\"client_id\",how=\"outer\")\n",
    "freq_mensu = freq_mensu.dropna()                                                #On enleve les clients non acheteurs\n",
    "\n",
    "# Lien entre l'age et la frequence d'achat mensuelle:\n",
    "freq_age = freq_mensu.groupby([\"age\"])[\"session_id\"].sum()\n",
    "\n",
    "print(freq_age)\n",
    "\n",
    "# Ces lignes peuvent être ajoutees ou retirees pour avoir la correlation et le scatterplot en prennant en compte les libraires:\n",
    "freq_mensu.drop(freq_mensu[(freq_mensu[\"client_id\"] == \"c_1609\")].index, inplace=True)\n",
    "freq_mensu.drop(freq_mensu[(freq_mensu[\"client_id\"] == \"c_3454\")].index, inplace=True)\n",
    "freq_mensu.drop(freq_mensu[(freq_mensu[\"client_id\"] == \"c_4958\")].index, inplace=True)\n",
    "freq_mensu.drop(freq_mensu[(freq_mensu[\"client_id\"] == \"c_6714\")].index, inplace=True)\n",
    "\n",
    "# Correlation entre l'age et le montant total des achats\n",
    "print(\"Corrélation de Speraman:\", st.spearmanr(freq_mensu[\"age\"], freq_mensu[\"session_id\"]))\n",
    "\n",
    "# Graphique\n",
    "sns.scatterplot(x=freq_mensu[\"age\"], y=freq_age)\n",
    "plt.ylabel(\"Fréquences des achats\")\n",
    "plt.xlabel(\"Age (années)\")\n",
    "plt.title(\"Fréquence mensuelle d'achat par âge\")\n",
    "\n",
    "#Rq: changer nom session_id par freq_m dans df freq_mensu"
   ]
  },
  {
   "cell_type": "markdown",
   "metadata": {},
   "source": [
    "L'échelle ne va que jusqu'à 80 contrairement aux autres scatterplot mais les 90 et plus sont bien présents dans le dataframe."
   ]
  },
  {
   "cell_type": "markdown",
   "metadata": {},
   "source": [
    "Probabilité conditionnelle\n",
    "---"
   ]
  },
  {
   "cell_type": "markdown",
   "metadata": {},
   "source": [
    "Probabilité pour un client d’acheter la référence 0_525 sachant qu’il a acheté la référence 2_159 (*une probabilité conditionnelle est la probabilité de B sachant A. P(B|A) =P(A∩B) /P(A)*)\n",
    "Notant :\n",
    "A = le client à acheté la référence 2_159\n",
    "B = le client à acheté la référence 0_525\n",
    "\n",
    "P(A)= nombre d'achats de 2_159 / nombre d'achats totaux = 650/679332\n",
    "P(B)= nombre d'achats de 0_525 / nombre d'achats totaux = 500/679332\n",
    "P(A∩B)= nombre d'achats de 2_159 & 0_525 / nombre d'achats totaux = 499 / 679332\n",
    "\n",
    "Les évènements sont indépendants ssi p(A∩B) = P(A) * P(B)"
   ]
  },
  {
   "cell_type": "code",
   "execution_count": 50,
   "metadata": {},
   "outputs": [
    {
     "name": "stdout",
     "output_type": "stream",
     "text": [
      "P(A)= 0.0009568222901320709\n",
      "P(B)= 0.0007360171462554391\n",
      "P(A∩B)= 0.0007345451119629283\n",
      "Les évenements ne sont pas indépendants\n",
      "P(B|A)= 0.7676923076923077\n"
     ]
    }
   ],
   "source": [
    "# Calcul des probabilites de base:\n",
    "achat_2_159 = Ventes_df.loc[(Ventes_df[\"id_prod\"] == \"2_159\"),\"session_id\"]\n",
    "achat_0_525 = Ventes_df.loc[(Ventes_df[\"id_prod\"] == \"0_525\"),\"session_id\"]\n",
    "\n",
    "p_achat_2_159 = achat_2_159.count()/ventes_tot\n",
    "p_achat_0_525 = achat_0_525.count()/ventes_tot\n",
    "p_achat_2_159n_achat_0_525 = len(set(achat_2_159).intersection(set(achat_0_525)))/ventes_tot\n",
    "\n",
    "print(\"P(A)=\",p_achat_2_159)\n",
    "print(\"P(B)=\",p_achat_0_525)\n",
    "print(\"P(A∩B)=\",p_achat_2_159n_achat_0_525)\n",
    "\n",
    "# L'achat des deux references est-il independant?\n",
    "if p_achat_2_159n_achat_0_525==p_achat_2_159*p_achat_0_525:\n",
    "    print(\"Les évenements sont indépendants\")\n",
    "else:\n",
    "    print(\"Les évenements ne sont pas indépendants\")\n",
    "\n",
    "# Probabilite pour un client d’acheter la reference 0_525 sachants qu’il a achete la reference 2_159:\n",
    "print(\"P(B|A)=\", p_achat_2_159n_achat_0_525/p_achat_2_159)"
   ]
  },
  {
   "cell_type": "markdown",
   "metadata": {},
   "source": [
    "P(A∩B) =/= P(A) x P(B), les deux achats ne sont donc pas indépendants (on le remarque facilement en comparant le nombre d'achats de 0_525 seul vs le nombre d'achats de 0_525 avec 2_159). La probabilité pour un client d'acheter 0_525 sachant qu'il a acheté 2_519 est forte (supérieure à 0,76)."
   ]
  },
  {
   "cell_type": "markdown",
   "metadata": {},
   "source": [
    "On pourrait collecter dans notre pipeline la durée des sessions, plus d'informations sur les clients (catégorie socio-professionnelle, zone géographique, date de création de compte), sur les produits (catégories plus détaillées, date de sortie de l'ouvrage). Il faudrait également comparer le comportement en ligne et hors ligne, en particulier pour les clients utilisant les deux modes d'achats."
   ]
  }
 ],
 "metadata": {
  "interpreter": {
   "hash": "404051c4332f3092e5aa7fdae49aa9cc513071843651b7fc7d1945385bcec5c0"
  },
  "kernelspec": {
   "display_name": "Python 3.8.8 64-bit ('base': conda)",
   "name": "python3"
  },
  "language_info": {
   "codemirror_mode": {
    "name": "ipython",
    "version": 3
   },
   "file_extension": ".py",
   "mimetype": "text/x-python",
   "name": "python",
   "nbconvert_exporter": "python",
   "pygments_lexer": "ipython3",
   "version": "3.8.8"
  },
  "orig_nbformat": 4
 },
 "nbformat": 4,
 "nbformat_minor": 2
}
